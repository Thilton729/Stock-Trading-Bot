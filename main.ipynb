{
 "cells": [
  {
   "cell_type": "code",
   "execution_count": 1,
   "source": [
    "import yfinance as yf\r\n",
    "import alpaca_trade_api\r\n",
    "import selenium\r\n",
    "import time\r\n",
    "from pytz import timezone\r\n",
    "from datetime import datetime\r\n",
    "from msedge.selenium_tools import EdgeOptions, Edge\r\n",
    "import smtplib"
   ],
   "outputs": [],
   "metadata": {}
  },
  {
   "cell_type": "code",
   "execution_count": 2,
   "source": [
    "#-----------authentication---------------\r\n",
    "api_key = 'PKQBLGJ7YSSH8RBKCDU0'\r\n",
    "secret_key = 'Kwx4sHT38Gv8nlJjxWfFv1EtxpTgNkc6ivqpFIZq'\r\n",
    "endpoint = 'https://paper-api.alpaca.markets'\r\n",
    "api =  alpaca_trade_api.REST(api_key, secret_key, endpoint, api_version='v2')\r\n",
    "email_add = 'byethost.panel@gmail.com'\r\n",
    "email_pass = 'bybjugzqzfzjrimz'"
   ],
   "outputs": [],
   "metadata": {}
  },
  {
   "cell_type": "code",
   "execution_count": 3,
   "source": [
    "def get_stock_list():\r\n",
    "    tickers=[]\r\n",
    "    url = 'https://finance.yahoo.com/gainers'\r\n",
    "\r\n",
    "    options = EdgeOptions()\r\n",
    "    options.use_chromium = True\r\n",
    "    options.add_argument(\"headless\")\r\n",
    "    options.add_argument(\"disable-gpu\")\r\n",
    "    driver = Edge(options = options)\r\n",
    "    driver.get(url)\r\n",
    "    driver.implicitly_wait(5)\r\n",
    "\r\n",
    "    for x in range(1,6):\r\n",
    "        per_change = driver.find_element_by_xpath(f'//*[@id=\"scr-res-table\"]/div[1]/table/tbody/tr[{x}]/td[5]/fin-streamer/span').text\r\n",
    "        l = len(per_change)\r\n",
    "        value = float(per_change[1:l-1])\r\n",
    "        #value = ''.join(element)\r\n",
    "        if float(value) > 0:\r\n",
    "            tickers.append(driver.find_element_by_xpath(f'//*[@id=\"scr-res-table\"]/div[1]/table/tbody/tr[{x}]/td[1]/a').text)\r\n",
    "\r\n",
    "    element = driver.find_element_by_xpath('//*[@id=\"scr-res-table\"]/div[1]/table/thead/tr/th[4]')\r\n",
    "    time.sleep(2)\r\n",
    "    element.click()\r\n",
    "    time.sleep(2)\r\n",
    "    element.click()\r\n",
    "    time.sleep(2)\r\n",
    "\r\n",
    "    for x in range(1,6):\r\n",
    "        element = driver.find_element_by_xpath(f'//*[@id=\"scr-res-table\"]/div[1]/table/tbody/tr[{x}]/td[1]/a').text\r\n",
    "        change = driver.find_element_by_xpath(f'//*[@id=\"scr-res-table\"]/div[1]/table/tbody/tr[{x}]/td[4]/fin-streamer/span').text\r\n",
    "        l = len(change)\r\n",
    "        value = float(change[1:])\r\n",
    "        if element not in tickers and value > 0:\r\n",
    "            tickers.append(element)\r\n",
    "\r\n",
    "    return tickers"
   ],
   "outputs": [],
   "metadata": {}
  },
  {
   "cell_type": "code",
   "execution_count": 4,
   "source": [
    "def get_current_price(symbol):\r\n",
    "    ticker_data = yf.Ticker(symbol)\r\n",
    "    data = ticker_data.history(period='1d')\r\n",
    "    return data['Close'][0]"
   ],
   "outputs": [],
   "metadata": {}
  },
  {
   "cell_type": "code",
   "execution_count": 5,
   "source": [
    "def place_order(sym, current_price):\r\n",
    "    if api.get_asset(sym).tradable:\r\n",
    "        api.submit_order(\r\n",
    "        symbol=sym,\r\n",
    "        qty=1,\r\n",
    "        side='buy',\r\n",
    "        type='market',      #market g/b??\r\n",
    "        time_in_force='gtc',\r\n",
    "        order_class='bracket',\r\n",
    "        stop_loss={'stop_price': current_price * 0.90,\r\n",
    "                'limit_price':  current_price * 0.90},\r\n",
    "        take_profit={'limit_price': current_price * 1.05}\r\n",
    "        )"
   ],
   "outputs": [],
   "metadata": {}
  },
  {
   "cell_type": "code",
   "execution_count": 6,
   "source": [
    "def send_email(body):\r\n",
    "    with smtplib.SMTP_SSL('smtp.gmail.com', 465) as smtp:\r\n",
    "        smtp.login(email_add, email_pass)\r\n",
    "        msg = f'Subject: Trading Bot Alert\\n\\n{body}'\r\n",
    "        smtp.sendmail(email_add, email_add, msg)"
   ],
   "outputs": [],
   "metadata": {}
  },
  {
   "cell_type": "code",
   "execution_count": 7,
   "source": [
    "def main(stop_time):\r\n",
    "    while True:\r\n",
    "        l_est = timezone('America/New_York')\r\n",
    "        l_time_obj = datetime.now(l_est).strftime(\"%H:%M:%S\")\r\n",
    "        l_time = datetime.strptime(l_time_obj, \"%H:%M:%S\")\r\n",
    "        if l_time >= stop_time:\r\n",
    "            break\r\n",
    "\r\n",
    "        stock_list = get_stock_list()\r\n",
    "\r\n",
    "        portfolio = api.list_positions()\r\n",
    "        owned = []\r\n",
    "        for x in portfolio:\r\n",
    "            owned.append(x.symbol)\r\n",
    "\r\n",
    "        for i in stock_list:\r\n",
    "            if i not in owned:\r\n",
    "                try:\r\n",
    "                    current_price = get_current_price(i)\r\n",
    "                    place_order(i,current_price)\r\n",
    "                except:\r\n",
    "                    continue\r\n",
    "\r\n",
    "        time.sleep(3600)"
   ],
   "outputs": [],
   "metadata": {}
  },
  {
   "cell_type": "code",
   "execution_count": 8,
   "source": [
    "clock = api.get_clock()\r\n",
    "est = timezone('America/New_York')\r\n",
    "open_time = datetime.strptime('09:30:00', \"%H:%M:%S\")\r\n",
    "exec_time = datetime.strptime('09:59:00', \"%H:%M:%S\")\r\n",
    "stop_time = datetime.strptime('15:32:00', \"%H:%M:%S\")\r\n",
    "\r\n",
    "while True:\r\n",
    "    weekday = datetime.today().astimezone(est).weekday()\r\n",
    "    curr_time_obj = datetime.now(est).strftime(\"%H:%M:%S\")\r\n",
    "    curr_time = datetime.strptime(curr_time_obj, \"%H:%M:%S\")\r\n",
    "\r\n",
    "    if weekday <= 4:\r\n",
    "        if curr_time > open_time and clock.is_open == False:\r\n",
    "            send_email('Market Closed Today.')\r\n",
    "            time.sleep(84540)\r\n",
    "\r\n",
    "        if curr_time > open_time and clock.is_open == True and curr_time >= exec_time:\r\n",
    "            main(stop_time)\r\n",
    "\r\n",
    "            if curr_time >= stop_time:\r\n",
    "                account = api.get_account()\r\n",
    "                balance_change = float(account.equity) - float(account.last_equity)\r\n",
    "\r\n",
    "                held_stocks = api.list_orders(status='open', limit=500, nested=True)\r\n",
    "                owned = ''\r\n",
    "                owned = None\r\n",
    "                for x in held_stocks:\r\n",
    "                    owned += x.symbol + ', '\r\n",
    "\r\n",
    "                send_email(f'Today\\'s portfolio balance change: ${balance_change}\\n\\nCurrently owned stocks: {owned}')\r\n",
    "                time.sleep(64200)\r\n",
    "    else:\r\n",
    "        time.sleep(86400)"
   ],
   "outputs": [],
   "metadata": {}
  }
 ],
 "metadata": {
  "kernelspec": {
   "name": "python3",
   "display_name": "Python 3.9.4 64-bit"
  },
  "language_info": {
   "codemirror_mode": {
    "name": "ipython",
    "version": 3
   },
   "file_extension": ".py",
   "mimetype": "text/x-python",
   "name": "python",
   "nbconvert_exporter": "python",
   "pygments_lexer": "ipython3",
   "version": "3.9.4"
  },
  "interpreter": {
   "hash": "63fd5069d213b44bf678585dea6b12cceca9941eaf7f819626cde1f2670de90d"
  }
 },
 "nbformat": 4,
 "nbformat_minor": 5
}